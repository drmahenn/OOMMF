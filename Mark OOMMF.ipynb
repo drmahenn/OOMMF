{
 "cells": [
  {
   "cell_type": "markdown",
   "metadata": {},
   "source": [
    "# Spatially varying parameters - Mark\n",
    "\n",
    "## Objectives\n",
    "\n",
    "The main objective of this tutorial is to demonstrate how spatially varying parameters can be used to model and simulate different geometries and/or materials using JOOMMF. I have modified this notebook in order to simulate a structure similar to the core-shell particle from Anderson and Camley paper.\n",
    "\n",
    "## Problem specification\n",
    "\n",
    "The geometry is a **sphere** with\n",
    "\n",
    "- unit cell length $\\Delta=0.228 \\,\\text{nm}$\n",
    "- core radius $r_c = 21\\cdot\\Delta= 4.8\\,\\text{nm}$ \n",
    "- interface thickness $r_i = 2 \\cdot\\Delta= 0.456\\,\\text{nm}$ \n",
    "- shell thickness $r_s = 10\\cdot\\Delta= 2.28\\,\\text{nm}$ \n",
    "- domain length $l = 3\\cdot(r_c+r_i+r_s)$.\n",
    "\n",
    "The material parameters for the core are (Gd):\n",
    "\n",
    "- exchange energy constant $A = 7.7 \\times 10^{-22} \\,\\text{J/m}$,\n",
    "- magnetisation saturation $M_\\text{s} = 2.01 \\times 10^{6} \\,\\text{A/m}$ at $0~K$ with $T_C=1043~K$.\n",
    "\n",
    "The material parameters for the shell are (Fe):\n",
    "\n",
    "- exchange energy constant $A = 2.16 \\times 10^{-20} \\,\\text{J/m}$,\n",
    "- magnetisation saturation $M_\\text{s} = 1.714 \\times 10^{6} \\,\\text{A/m}$ at $0~K$ with $T_C=289~K$.\n",
    "\n",
    "Magnetisation dynamics are governed by the Landau-Lifshitz-Gilbert equation\n",
    "\n",
    "$$\\frac{d\\mathbf{m}}{dt} = \\underbrace{-\\gamma_{0}(\\mathbf{m} \\times \\mathbf{H}_\\text{eff})}_\\text{precession} + \\underbrace{\\alpha\\left(\\mathbf{m} \\times \\frac{d\\mathbf{m}}{dt}\\right)}_\\text{damping}$$\n",
    "\n",
    "where $\\gamma_{0} = 2.211 \\times 10^{5} \\,\\text{m}\\,\\text{A}^{-1}\\,\\text{s}^{-1}$ and Gilbert damping $\\alpha=0.5$.\n",
    "\n",
    "We are interested in computing the equlibrium magnetisation state starting from the uniform magnetisation in the $(1, 1, 1)$ direction.\n",
    "\n",
    "## Simulation\n",
    "\n",
    "In the first step, we import the required `discretisedfield` and `oommfc` modules."
   ]
  },
  {
   "cell_type": "code",
   "execution_count": 1,
   "metadata": {},
   "outputs": [],
   "source": [
    "#import hublib.use\n",
    "import numpy as np\n",
    "#%use oommf-1.2b0\n",
    "import math\n",
    "import oommfc as oc\n",
    "import discretisedfield as df\n",
    "mu0 = 1.25663706212e-6"
   ]
  },
  {
   "cell_type": "markdown",
   "metadata": {},
   "source": [
    "Here we define a function to account for the temperature dependence of the saturation magnetization $M_s$."
   ]
  },
  {
   "cell_type": "code",
   "execution_count": 2,
   "metadata": {},
   "outputs": [],
   "source": [
    "def M_temp(T,M_0,T_0):\n",
    "    M = M_0 * (1-(T/T_0)**(3/2))\n",
    "    return M\n",
    "#\n",
    "# Dependence of A on M and T found in : \"Temperature dependence of the exchange stiffness in F..\". Mulazzi et al.\n",
    "#\n",
    "def A_temp(T,A_0,M_0,T_0):\n",
    "    M_t = M_temp(T,M_0,T_0)\n",
    "    A = A_0 * T * (1-M_t/M_0)**(-2/3)\n",
    "    return A"
   ]
  },
  {
   "cell_type": "markdown",
   "metadata": {},
   "source": [
    "We need to define the rectangular finite difference mesh that can contain the entire sphere."
   ]
  },
  {
   "cell_type": "code",
   "execution_count": 3,
   "metadata": {},
   "outputs": [],
   "source": [
    "n_1 = 6#21 # number of cells for inner core\n",
    "n_i = 1 # number of cells in interface\n",
    "n_2 = 5#10 # number of cells in outer shell\n",
    "d = 0.228e-9  # discretisation cell (m)\n",
    "#L = 20e-9  # mesh edge length (m)\n",
    "L = 3*(n_1 + n_i + n_2)*d\n",
    "mesh = oc.Mesh(p1=(-L/2, -L/2, -L/2), p2=(L/2, L/2, L/2), cell=(d, d, d))"
   ]
  },
  {
   "cell_type": "markdown",
   "metadata": {},
   "source": [
    "To illustrate the mesh and discretisation cell:"
   ]
  },
  {
   "cell_type": "code",
   "execution_count": 4,
   "metadata": {},
   "outputs": [
    {
     "data": {
      "text/plain": [
       "Mesh(p1=(-4.104e-09, -4.104e-09, -4.104e-09), p2=(4.104e-09, 4.104e-09, 4.104e-09), cell=(2.28e-10, 2.28e-10, 2.28e-10), pbc=set(), name='mesh')"
      ]
     },
     "execution_count": 4,
     "metadata": {},
     "output_type": "execute_result"
    }
   ],
   "source": [
    "%matplotlib inline\n",
    "mesh"
   ]
  },
  {
   "cell_type": "markdown",
   "metadata": {},
   "source": [
    "As usual, we create the system object and define its Hamiltonian and dynamics equation."
   ]
  },
  {
   "cell_type": "code",
   "execution_count": 5,
   "metadata": {},
   "outputs": [],
   "source": [
    "#System object\n",
    "system = oc.System(name=\"sphere\")\n",
    "# Hamiltonian\n",
    "#A = 1.3e-11  # exchange energy constant (J/m)\n",
    "H = (0, 0, 0.2e-3/mu0)  # external magnetic field (A/m)\n",
    "#\n",
    "# Here we define the layered geometry\n",
    "#\n",
    "A_1 = 7.7e-22\n",
    "A_i = -8.29e-21\n",
    "A_2 = 2.16e-20\n",
    "M_1 = 1.74e6 # core\n",
    "M_i = -4e5\n",
    "M_2 = 2.01e6 # shell\n",
    "T_1 = 1043\n",
    "T_i = 1\n",
    "T_2 = 289\n",
    "T_sys = 30 # temperature of system\n",
    "def A_value(pos):\n",
    "    x, y, z = pos\n",
    "    if z < (n_1 + n_i + n_2) * d:\n",
    "        r = math.sqrt(x**2 + y**2 + z**2)\n",
    "        if r <= n_1 * d: # inner core\n",
    "            return A_1#A_temp(T_sys,A_1,M_1,T_1)\n",
    "        elif r <= (n_1 + n_i) * d:\n",
    "            return A_i#A_temp(T_sys,A_i,M_i,T_i)\n",
    "        elif r <= (n_1 + n_i + n_2) * d:\n",
    "            return A_2#A_temp(T_sys,A_2,M_2,T_2)    \n",
    "        else:\n",
    "            return 0\n",
    "    else:\n",
    "        return 0\n",
    "    \n",
    "def Ms_function(pos):\n",
    "    x, y, z = pos\n",
    "    if z < (n_1 + n_i + n_2) * d:\n",
    "        r = math.sqrt(x**2 + y**2 + z**2)\n",
    "        if r <= n_1 * d: # inner core\n",
    "            return M_temp(T_sys,M_1,T_1)\n",
    "        elif r <= (n_1 + n_i) * d:\n",
    "            return M_temp(T_sys,M_i,T_i)\n",
    "        elif r <= (n_1 + n_i + n_2) * d:\n",
    "            return M_temp(T_sys,M_2,T_2)   \n",
    "        else:\n",
    "            return 0 \n",
    "    else:\n",
    "        return 0\n",
    "    \n",
    "A =  df.Field(mesh, dim=1, value=A_value)\n",
    "    \n",
    "system.hamiltonian = oc.Exchange(A=A) + oc.Demag() + oc.Zeeman(H)\n",
    "\n",
    "## Dynamics\n",
    "#gamma = 2.211e5\n",
    "#alpha = 0.5\n",
    "#system.dynamics = oc.Precession(gamma) + oc.Damping(alpha)"
   ]
  },
  {
   "cell_type": "markdown",
   "metadata": {},
   "source": [
    "The Hamiltonian and dynamics equation are:"
   ]
  },
  {
   "cell_type": "code",
   "execution_count": 6,
   "metadata": {},
   "outputs": [
    {
     "data": {
      "text/latex": [
       "$w=A (\\nabla \\mathbf{m})^{2}-\\frac{1}{2}\\mu_{0}M_\\text{s}\\mathbf{m} \\cdot \\mathbf{H}_\\text{d}-\\mu_{0}M_\\text{s} \\mathbf{m} \\cdot \\mathbf{H}$"
      ],
      "text/plain": [
       "Exchange(A=Field(mesh=Mesh(p1=(-4.104e-09, -4.104e-09, -4.104e-09), p2=(4.104e-09, 4.104e-09, 4.104e-09), cell=(2.28e-10, 2.28e-10, 2.28e-10), pbc=set(), name='mesh'), dim=1, name='field'), name='exchange') + Demag(name='demag') + Zeeman(H=(0, 0, 159.15494300525526), name='zeeman')"
      ]
     },
     "execution_count": 6,
     "metadata": {},
     "output_type": "execute_result"
    }
   ],
   "source": [
    "system.hamiltonian"
   ]
  },
  {
   "cell_type": "code",
   "execution_count": 7,
   "metadata": {},
   "outputs": [
    {
     "data": {
      "text/latex": [
       "$\\frac{\\partial \\mathbf{m}}{\\partial t}=0$"
      ],
      "text/plain": []
     },
     "execution_count": 7,
     "metadata": {},
     "output_type": "execute_result"
    }
   ],
   "source": [
    "system.dynamics"
   ]
  },
  {
   "cell_type": "markdown",
   "metadata": {},
   "source": [
    "Having the function defining the sphere geometry, we can now create the initial magnetisation field. The direction of the inital field is determined by the value variable, here $(1, 0, 0)$, i.e., the inital magnetization points into the $x$-direction and the norm should be the saturation magnetisation function we just created."
   ]
  },
  {
   "cell_type": "code",
   "execution_count": 8,
   "metadata": {},
   "outputs": [],
   "source": [
    "system.m = df.Field(mesh, value=(1, 0, 0), norm=Ms_function)"
   ]
  },
  {
   "cell_type": "markdown",
   "metadata": {},
   "source": [
    "We can plot the initial magnetisation by slicing the sphere geometry perpendicular to \"z\" and \"x\" axes."
   ]
  },
  {
   "cell_type": "code",
   "execution_count": 9,
   "metadata": {},
   "outputs": [
    {
     "data": {
      "image/png": "[encoded data removed]",
      "text/plain": [
       "<Figure size 432x288 with 2 Axes>"
      ]
     },
     "metadata": {
      "needs_background": "light"
     },
     "output_type": "display_data"
    }
   ],
   "source": [
    "#system.m.norm.k3d_nonzero()\n",
    "#system.m.plane('z').k3d_vectors(head_size=2)\n",
    "system.m.x.plane('z').mpl()\n",
    "#system.m.plot_plane(\"z\")\n",
    "#system.m.plot_plane(\"x\")"
   ]
  },
  {
   "cell_type": "markdown",
   "metadata": {},
   "source": [
    "### Relaxing the magnetisation\n",
    "\n",
    "After we defined all requited parameters of the system, we can relax the system using `MinDriver`."
   ]
  },
  {
   "cell_type": "code",
   "execution_count": null,
   "metadata": {},
   "outputs": [
    {
     "name": "stdout",
     "output_type": "stream",
     "text": [
      "2020/02/25 19:35: Running OOMMF (sphere.mif) ... "
     ]
    }
   ],
   "source": [
    "md = oc.MinDriver()\n",
    "md.drive(system, overwrite=True)"
   ]
  },
  {
   "cell_type": "markdown",
   "metadata": {},
   "source": [
    "And plot the magnetisation in the same slices as before."
   ]
  },
  {
   "cell_type": "code",
   "execution_count": null,
   "metadata": {},
   "outputs": [],
   "source": [
    "#system.m.x.k3d_voxels(norm_field=system.m.norm)\n",
    "system.m.x.plane('z').mpl()"
   ]
  },
  {
   "cell_type": "markdown",
   "metadata": {},
   "source": [
    "<hr>\n",
    "Cleaning up.  Temporary files were written.  You may want to remove them."
   ]
  },
  {
   "cell_type": "code",
   "execution_count": null,
   "metadata": {},
   "outputs": [],
   "source": [
    "!rm -rf sphere"
   ]
  }
 ],
 "metadata": {
  "kernelspec": {
   "display_name": "Python 3",
   "language": "python",
   "name": "python3"
  },
  "language_info": {
   "codemirror_mode": {
    "name": "ipython",
    "version": 3
   },
   "file_extension": ".py",
   "mimetype": "text/x-python",
   "name": "python",
   "nbconvert_exporter": "python",
   "pygments_lexer": "ipython3",
   "version": "3.6.7"
  }
 },
 "nbformat": 4,
 "nbformat_minor": 2
}
